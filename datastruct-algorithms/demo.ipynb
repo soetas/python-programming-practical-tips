{
 "cells": [
  {
   "cell_type": "markdown",
   "id": "80fcdc2f",
   "metadata": {},
   "source": [
    "###  将序列分解为单独的变量\n"
   ]
  },
  {
   "cell_type": "code",
   "execution_count": 4,
   "id": "d4e1cbde",
   "metadata": {},
   "outputs": [
    {
     "data": {
      "text/plain": [
       "98"
      ]
     },
     "execution_count": 4,
     "metadata": {},
     "output_type": "execute_result"
    }
   ],
   "source": [
    "x, y = (67, 98)\n",
    "\n",
    "y"
   ]
  },
  {
   "cell_type": "code",
   "execution_count": 5,
   "id": "9b7b5c65",
   "metadata": {},
   "outputs": [
    {
     "ename": "ValueError",
     "evalue": "not enough values to unpack (expected 3, got 2)",
     "output_type": "error",
     "traceback": [
      "\u001b[1;31m---------------------------------------------------------------------------\u001b[0m",
      "\u001b[1;31mValueError\u001b[0m                                Traceback (most recent call last)",
      "Cell \u001b[1;32mIn [5], line 1\u001b[0m\n\u001b[1;32m----> 1\u001b[0m x, y, z \u001b[38;5;241m=\u001b[39m (\u001b[38;5;241m45\u001b[39m, \u001b[38;5;241m10\u001b[39m)\n",
      "\u001b[1;31mValueError\u001b[0m: not enough values to unpack (expected 3, got 2)"
     ]
    }
   ],
   "source": [
    "x, y, z = (45, 10)"
   ]
  },
  {
   "cell_type": "code",
   "execution_count": 7,
   "id": "9a741d68",
   "metadata": {},
   "outputs": [
    {
     "data": {
      "text/plain": [
       "'3228891558@163.com'"
      ]
     },
     "execution_count": 7,
     "metadata": {},
     "output_type": "execute_result"
    }
   ],
   "source": [
    "user = ['soetas', '3228891558@163.com', (1892, 2, 17)]\n",
    "\n",
    "name, email, (year, month, _) = user\n",
    "\n",
    "email"
   ]
  },
  {
   "cell_type": "code",
   "execution_count": 8,
   "id": "244879f1",
   "metadata": {},
   "outputs": [
    {
     "data": {
      "text/plain": [
       "1892"
      ]
     },
     "execution_count": 8,
     "metadata": {},
     "output_type": "execute_result"
    }
   ],
   "source": [
    "year"
   ]
  },
  {
   "cell_type": "code",
   "execution_count": 9,
   "id": "2333d9df",
   "metadata": {},
   "outputs": [
    {
     "data": {
      "text/plain": [
       "17"
      ]
     },
     "execution_count": 9,
     "metadata": {},
     "output_type": "execute_result"
    }
   ],
   "source": [
    "_"
   ]
  },
  {
   "cell_type": "markdown",
   "id": "8672bf8f",
   "metadata": {},
   "source": [
    "### 从任意长度的可迭代对象中分解元素\n"
   ]
  },
  {
   "cell_type": "code",
   "execution_count": 10,
   "id": "35a7d554",
   "metadata": {},
   "outputs": [
    {
     "data": {
      "text/plain": [
       "['18830484731', '13302821782']"
      ]
     },
     "execution_count": 10,
     "metadata": {},
     "output_type": "execute_result"
    }
   ],
   "source": [
    "name, email, *phone_numbers = ('soetas', 'yaxing@gmail.com', '18830484731', '13302821782')\n",
    "\n",
    "phone_numbers"
   ]
  },
  {
   "cell_type": "code",
   "execution_count": null,
   "id": "fba4f65f",
   "metadata": {},
   "outputs": [],
   "source": []
  }
 ],
 "metadata": {
  "kernelspec": {
   "display_name": "Python 3 (ipykernel)",
   "language": "python",
   "name": "python3"
  },
  "language_info": {
   "codemirror_mode": {
    "name": "ipython",
    "version": 3
   },
   "file_extension": ".py",
   "mimetype": "text/x-python",
   "name": "python",
   "nbconvert_exporter": "python",
   "pygments_lexer": "ipython3",
   "version": "3.8.2"
  }
 },
 "nbformat": 4,
 "nbformat_minor": 5
}
