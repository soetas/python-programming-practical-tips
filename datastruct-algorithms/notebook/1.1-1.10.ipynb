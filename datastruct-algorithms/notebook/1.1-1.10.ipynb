{
 "cells": [
  {
   "cell_type": "markdown",
   "id": "1de79154",
   "metadata": {},
   "source": [
    "## 将序列分解为单独的变量\n"
   ]
  },
  {
   "cell_type": "code",
   "execution_count": 6,
   "id": "9e94e8b5",
   "metadata": {},
   "outputs": [
    {
     "data": {
      "text/plain": [
       "'3228891556@163.com'"
      ]
     },
     "execution_count": 6,
     "metadata": {},
     "output_type": "execute_result"
    }
   ],
   "source": [
    "import collections\n",
    "\n",
    "_, email, (_, month, _) = ('soetas', '3228891556@163.com', (1892, 11, 6))\n",
    "\n",
    "email"
   ]
  },
  {
   "cell_type": "code",
   "execution_count": 7,
   "id": "e80ac78e",
   "metadata": {},
   "outputs": [
    {
     "data": {
      "text/plain": [
       "11"
      ]
     },
     "execution_count": 7,
     "metadata": {},
     "output_type": "execute_result"
    }
   ],
   "source": [
    "month"
   ]
  },
  {
   "cell_type": "code",
   "execution_count": 10,
   "id": "1e4acd61",
   "metadata": {},
   "outputs": [
    {
     "data": {
      "text/plain": [
       "6"
      ]
     },
     "execution_count": 10,
     "metadata": {},
     "output_type": "execute_result"
    }
   ],
   "source": [
    "_"
   ]
  },
  {
   "cell_type": "code",
   "execution_count": 8,
   "id": "b0ad07bf",
   "metadata": {},
   "outputs": [
    {
     "ename": "ValueError",
     "evalue": "too many values to unpack (expected 2)",
     "output_type": "error",
     "traceback": [
      "\u001b[1;31m---------------------------------------------------------------------------\u001b[0m",
      "\u001b[1;31mValueError\u001b[0m                                Traceback (most recent call last)",
      "Cell \u001b[1;32mIn [8], line 1\u001b[0m\n\u001b[1;32m----> 1\u001b[0m x, y \u001b[38;5;241m=\u001b[39m (\u001b[38;5;241m71\u001b[39m, \u001b[38;5;241m92\u001b[39m, \u001b[38;5;241m10\u001b[39m)\n",
      "\u001b[1;31mValueError\u001b[0m: too many values to unpack (expected 2)"
     ]
    }
   ],
   "source": [
    "x, y = (71, 92, 10)\n"
   ]
  },
  {
   "cell_type": "code",
   "execution_count": 9,
   "id": "4ef39a93",
   "metadata": {},
   "outputs": [
    {
     "ename": "ValueError",
     "evalue": "not enough values to unpack (expected 3, got 2)",
     "output_type": "error",
     "traceback": [
      "\u001b[1;31m---------------------------------------------------------------------------\u001b[0m",
      "\u001b[1;31mValueError\u001b[0m                                Traceback (most recent call last)",
      "Cell \u001b[1;32mIn [9], line 1\u001b[0m\n\u001b[1;32m----> 1\u001b[0m x, y, z \u001b[38;5;241m=\u001b[39m (\u001b[38;5;241m27\u001b[39m, \u001b[38;5;241m55\u001b[39m)\n",
      "\u001b[1;31mValueError\u001b[0m: not enough values to unpack (expected 3, got 2)"
     ]
    }
   ],
   "source": [
    "x, y, z = (27, 55)"
   ]
  },
  {
   "cell_type": "markdown",
   "id": "6955843c",
   "metadata": {},
   "source": [
    "## 从任意长度的可迭代对象中分解元素\n"
   ]
  },
  {
   "cell_type": "code",
   "execution_count": 11,
   "id": "6afc4467",
   "metadata": {},
   "outputs": [
    {
     "data": {
      "text/plain": [
       "[90, 78, 82, 10, 21]"
      ]
     },
     "execution_count": 11,
     "metadata": {},
     "output_type": "execute_result"
    }
   ],
   "source": [
    "_, *grades, _ = (67, 90, 78, 82, 10, 21, 100)\n",
    "\n",
    "grades\n"
   ]
  },
  {
   "cell_type": "code",
   "execution_count": 13,
   "id": "8d4d1ccc",
   "metadata": {},
   "outputs": [
    {
     "name": "stdout",
     "output_type": "stream",
     "text": [
      "https://httpbin.org/get get\n",
      "{'Accept-Encoding': 'gzip'}\n"
     ]
    }
   ],
   "source": [
    "def request(url, method, headers):\n",
    "    print(url, method)\n",
    "    print(headers)\n",
    "\n",
    "opts = ('https://httpbin.org/get', 'get', {'Accept-Encoding':'gzip'})\n",
    "    \n",
    "request(*opts) \n"
   ]
  },
  {
   "cell_type": "code",
   "execution_count": 18,
   "id": "3eca0c78",
   "metadata": {},
   "outputs": [
    {
     "data": {
      "text/plain": [
       "'search?q=httpbin&qs=n&form=QBRE&sp=-1&lq=0&pq=httpbin&sc=9-7'"
      ]
     },
     "execution_count": 18,
     "metadata": {},
     "output_type": "execute_result"
    }
   ],
   "source": [
    "url = 'https://cn.bing.com/search?q=httpbin&qs=n&form=QBRE&sp=-1&lq=0&pq=httpbin&sc=9-7'\n",
    "\n",
    "url.split('/')[-1]\n"
   ]
  },
  {
   "cell_type": "code",
   "execution_count": 22,
   "id": "9c368291",
   "metadata": {},
   "outputs": [
    {
     "data": {
      "text/plain": [
       "36"
      ]
     },
     "execution_count": 22,
     "metadata": {},
     "output_type": "execute_result"
    }
   ],
   "source": [
    "def sum(items):\n",
    "    first, *rest = items\n",
    "    return (first + sum(rest)) if rest else first\n",
    "\n",
    "sum([1, 10, 7, 4, 5, 9])"
   ]
  },
  {
   "cell_type": "markdown",
   "id": "9fbcf068",
   "metadata": {},
   "source": [
    "## 保存最后N个元素\n"
   ]
  },
  {
   "cell_type": "code",
   "execution_count": null,
   "id": "0cd5a98e",
   "metadata": {},
   "outputs": [],
   "source": [
    "from collections import deque\n",
    "\n",
    "\n"
   ]
  },
  {
   "cell_type": "markdown",
   "id": "85b4da31",
   "metadata": {},
   "source": [
    "## 找到最大或最小的N个元素\n"
   ]
  },
  {
   "cell_type": "markdown",
   "id": "32438b97",
   "metadata": {},
   "source": [
    "## 实现优先级队列\n"
   ]
  },
  {
   "cell_type": "markdown",
   "id": "8678a07b",
   "metadata": {},
   "source": [
    "## 在字典中将键映射到多个值上\n"
   ]
  },
  {
   "cell_type": "markdown",
   "id": "9785e152",
   "metadata": {},
   "source": [
    "## 让字典保持有序\n"
   ]
  },
  {
   "cell_type": "markdown",
   "id": "58d1cea4",
   "metadata": {},
   "source": [
    "## 与字典有关的计算问题\n"
   ]
  },
  {
   "cell_type": "markdown",
   "id": "cad41c2f",
   "metadata": {},
   "source": [
    "## 在两个字典中寻找相同点\n"
   ]
  },
  {
   "cell_type": "markdown",
   "id": "d2e33ad2",
   "metadata": {},
   "source": [
    "## 从字典中移除重复项且保持元素间顺序不变\n"
   ]
  }
 ],
 "metadata": {
  "kernelspec": {
   "display_name": "Python 3 (ipykernel)",
   "language": "python",
   "name": "python3"
  },
  "language_info": {
   "codemirror_mode": {
    "name": "ipython",
    "version": 3
   },
   "file_extension": ".py",
   "mimetype": "text/x-python",
   "name": "python",
   "nbconvert_exporter": "python",
   "pygments_lexer": "ipython3",
   "version": "3.8.2"
  }
 },
 "nbformat": 4,
 "nbformat_minor": 5
}
